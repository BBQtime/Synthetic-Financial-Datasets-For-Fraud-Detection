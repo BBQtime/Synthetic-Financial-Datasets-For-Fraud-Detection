{
 "cells": [
  {
   "cell_type": "code",
   "execution_count": 3,
   "metadata": {},
   "outputs": [
    {
     "name": "stdout",
     "output_type": "stream",
     "text": [
      "Index(['step', 'type', 'amount', 'nameOrig', 'oldbalanceOrg', 'newbalanceOrig',\n",
      "       'nameDest', 'oldbalanceDest', 'newbalanceDest', 'isFraud',\n",
      "       'isFlaggedFraud'],\n",
      "      dtype='object')\n",
      "   step      type    amount    Name_Orig  Old_Balance_Orig  New_Balance_Orig  \\\n",
      "0     1   PAYMENT   9839.64  C1231006815          170136.0         160296.36   \n",
      "1     1   PAYMENT   1864.28  C1666544295           21249.0          19384.72   \n",
      "2     1  TRANSFER    181.00  C1305486145             181.0              0.00   \n",
      "3     1  CASH_OUT    181.00   C840083671             181.0              0.00   \n",
      "4     1   PAYMENT  11668.14  C2048537720           41554.0          29885.86   \n",
      "\n",
      "     Name_Dest  Old_Balance_Dest  New_Balance_Dest  isFraud  isFlaggedFraud  \n",
      "0  M1979787155               0.0               0.0        0               0  \n",
      "1  M2044282225               0.0               0.0        0               0  \n",
      "2   C553264065               0.0               0.0        1               0  \n",
      "3    C38997010           21182.0               0.0        1               0  \n",
      "4  M1230701703               0.0               0.0        0               0  \n",
      "<class 'pandas.core.frame.DataFrame'>\n",
      "RangeIndex: 6362620 entries, 0 to 6362619\n",
      "Data columns (total 11 columns):\n",
      "step                int64\n",
      "type                object\n",
      "amount              float64\n",
      "Name_Orig           object\n",
      "Old_Balance_Orig    float64\n",
      "New_Balance_Orig    float64\n",
      "Name_Dest           object\n",
      "Old_Balance_Dest    float64\n",
      "New_Balance_Dest    float64\n",
      "isFraud             int64\n",
      "isFlaggedFraud      int64\n",
      "dtypes: float64(5), int64(3), object(3)\n",
      "memory usage: 534.0+ MB\n",
      "None\n",
      "\n",
      " The types of fraudulent transactions are ['TRANSFER', 'CASH_OUT']\n",
      "(6362620, 11)\n",
      "(6362620, 11)\n"
     ]
    },
    {
     "data": {
      "text/plain": [
       "\"\\ndfFraudTransfer = df.loc[(df.isFraud == 1) & (df.type == 'TRANSFER')]\\ndfFraudCashout = df.loc[(df.isFraud == 1) & (df.type == 'CASH_OUT')]\\n\\nprint('\\n No.fraudulent in TRANSFERs = {}'.\\n      format(len(dfFraudTransfer)))\\n# The Number of\\n\\nprint('\\n No.fraudulent in CASH_OUTs = {}'.\\n      format(len(dfFraudCashout)))\\n\\n# data import and cleaning\\nX = df.loc[(df.type == 'TRANSFER')]\\n#X = df.loc[(df.type == 'CASH_OUT')]\\ny = X['isFraud']\\ndel X['isFraud']\\n\\n# Eliminate columns shown to be irrelevant for analysis in the EDA\\nX = X.drop(['Name_Orig', 'Name_Dest', 'isFlaggedFraud', 'type'], axis=1)\\nprint(X.head())\\n\\n# decision tree model\\nX_train, X_test, y_train, y_test = train_test_split(\\n    X, y, test_size=0.2)\\n\\n#X_train, X_test, y_train, y_test = train_test_split(\\n#    X, y, test_size=0.2, random_state=1)\\n\\ndt = DecisionTreeClassifier(max_depth=5, random_state=1)\\ndt.fit(X_train, y_train)\\ny_pred = dt.predict(X_test)\\nacc = accuracy_score(y_test, y_pred)\\n\""
      ]
     },
     "execution_count": 3,
     "metadata": {},
     "output_type": "execute_result"
    }
   ],
   "source": [
    "# Import models and utility functions\n",
    "from sklearn.tree import DecisionTreeClassifier\n",
    "from sklearn.model_selection import train_test_split, learning_curve\n",
    "from sklearn.metrics import mean_squared_error as MSE\n",
    "from sklearn.metrics import roc_auc_score, accuracy_score\n",
    "import pandas as pd\n",
    "import numpy as np\n",
    "import matplotlib.pyplot as plt\n",
    "import matplotlib.lines as mlines\n",
    "from mpl_toolkits.mplot3d import Axes3D\n",
    "import seaborn as sns\n",
    "\n",
    "\n",
    "# ignore warning\n",
    "import warnings\n",
    "warnings.filterwarnings(\"ignore\", category=DeprecationWarning)\n",
    "\n",
    "# import data\n",
    "file = 'fraud.csv'\n",
    "df = pd.read_csv(file)\n",
    "print(df.columns)\n",
    "df = df.rename(columns={'oldbalanceOrg': 'Old_Balance_Orig',\n",
    "                        'newbalanceOrig': 'New_Balance_Orig',\n",
    "                        'oldbalanceDest': 'Old_Balance_Dest',\n",
    "                        'newbalanceDest': 'New_Balance_Dest',\n",
    "                        'nameOrig': 'Name_Orig',\n",
    "                        'nameDest': 'Name_Dest'})\n",
    "print(df.head())\n",
    "print(df.info())\n",
    "\n",
    "\n",
    "\n",
    "\n",
    "# EDA\n",
    "print('\\n The types of fraudulent transactions are {}'.format(\n",
    "    list(df.loc[df.isFraud == 1].type.drop_duplicates().values)))\n",
    "#\n",
    "print(df.shape)\n",
    "#df = df.loc[(df.isFraud!=1)&(df.amount!=0)]\n",
    "\n",
    "print(df.shape)\n",
    "\n",
    "\"\"\"\n",
    "dfFraudTransfer = df.loc[(df.isFraud == 1) & (df.type == 'TRANSFER')]\n",
    "dfFraudCashout = df.loc[(df.isFraud == 1) & (df.type == 'CASH_OUT')]\n",
    "\n",
    "print('\\n No.fraudulent in TRANSFERs = {}'.\n",
    "      format(len(dfFraudTransfer)))\n",
    "# The Number of\n",
    "\n",
    "print('\\n No.fraudulent in CASH_OUTs = {}'.\n",
    "      format(len(dfFraudCashout)))\n",
    "\n",
    "# data import and cleaning\n",
    "X = df.loc[(df.type == 'TRANSFER')]\n",
    "#X = df.loc[(df.type == 'CASH_OUT')]\n",
    "y = X['isFraud']\n",
    "del X['isFraud']\n",
    "\n",
    "# Eliminate columns shown to be irrelevant for analysis in the EDA\n",
    "X = X.drop(['Name_Orig', 'Name_Dest', 'isFlaggedFraud', 'type'], axis=1)\n",
    "print(X.head())\n",
    "\n",
    "# decision tree model\n",
    "X_train, X_test, y_train, y_test = train_test_split(\n",
    "    X, y, test_size=0.2)\n",
    "\n",
    "#X_train, X_test, y_train, y_test = train_test_split(\n",
    "#    X, y, test_size=0.2, random_state=1)\n",
    "\n",
    "dt = DecisionTreeClassifier(max_depth=5, random_state=1)\n",
    "dt.fit(X_train, y_train)\n",
    "y_pred = dt.predict(X_test)\n",
    "acc = accuracy_score(y_test, y_pred)\n",
    "\"\"\""
   ]
  },
  {
   "cell_type": "code",
   "execution_count": 13,
   "metadata": {},
   "outputs": [
    {
     "name": "stdout",
     "output_type": "stream",
     "text": [
      "(6362620, 11)\n",
      "(6362604, 11)\n",
      "(16, 11)\n",
      "(6362620, 11)\n",
      "isFraud=1的情况下，Old_Balance_Orig<amount (29, 11)\n",
      "(6362620, 11) (6362591, 11) 29\n"
     ]
    },
    {
     "data": {
      "text/html": [
       "<div>\n",
       "<style>\n",
       "    .dataframe thead tr:only-child th {\n",
       "        text-align: right;\n",
       "    }\n",
       "\n",
       "    .dataframe thead th {\n",
       "        text-align: left;\n",
       "    }\n",
       "\n",
       "    .dataframe tbody tr th {\n",
       "        vertical-align: top;\n",
       "    }\n",
       "</style>\n",
       "<table border=\"1\" class=\"dataframe\">\n",
       "  <thead>\n",
       "    <tr style=\"text-align: right;\">\n",
       "      <th></th>\n",
       "      <th>step</th>\n",
       "      <th>type</th>\n",
       "      <th>amount</th>\n",
       "      <th>Name_Orig</th>\n",
       "      <th>Old_Balance_Orig</th>\n",
       "      <th>New_Balance_Orig</th>\n",
       "      <th>Name_Dest</th>\n",
       "      <th>Old_Balance_Dest</th>\n",
       "      <th>New_Balance_Dest</th>\n",
       "      <th>isFraud</th>\n",
       "      <th>isFlaggedFraud</th>\n",
       "    </tr>\n",
       "  </thead>\n",
       "  <tbody>\n",
       "    <tr>\n",
       "      <th>0</th>\n",
       "      <td>1</td>\n",
       "      <td>PAYMENT</td>\n",
       "      <td>9839.64</td>\n",
       "      <td>C1231006815</td>\n",
       "      <td>170136.0</td>\n",
       "      <td>160296.36</td>\n",
       "      <td>M1979787155</td>\n",
       "      <td>0.0</td>\n",
       "      <td>0.0</td>\n",
       "      <td>0</td>\n",
       "      <td>0</td>\n",
       "    </tr>\n",
       "    <tr>\n",
       "      <th>1</th>\n",
       "      <td>1</td>\n",
       "      <td>PAYMENT</td>\n",
       "      <td>1864.28</td>\n",
       "      <td>C1666544295</td>\n",
       "      <td>21249.0</td>\n",
       "      <td>19384.72</td>\n",
       "      <td>M2044282225</td>\n",
       "      <td>0.0</td>\n",
       "      <td>0.0</td>\n",
       "      <td>0</td>\n",
       "      <td>0</td>\n",
       "    </tr>\n",
       "    <tr>\n",
       "      <th>2</th>\n",
       "      <td>1</td>\n",
       "      <td>TRANSFER</td>\n",
       "      <td>181.00</td>\n",
       "      <td>C1305486145</td>\n",
       "      <td>181.0</td>\n",
       "      <td>0.00</td>\n",
       "      <td>C553264065</td>\n",
       "      <td>0.0</td>\n",
       "      <td>0.0</td>\n",
       "      <td>1</td>\n",
       "      <td>0</td>\n",
       "    </tr>\n",
       "    <tr>\n",
       "      <th>3</th>\n",
       "      <td>1</td>\n",
       "      <td>CASH_OUT</td>\n",
       "      <td>181.00</td>\n",
       "      <td>C840083671</td>\n",
       "      <td>181.0</td>\n",
       "      <td>0.00</td>\n",
       "      <td>C38997010</td>\n",
       "      <td>21182.0</td>\n",
       "      <td>0.0</td>\n",
       "      <td>1</td>\n",
       "      <td>0</td>\n",
       "    </tr>\n",
       "    <tr>\n",
       "      <th>4</th>\n",
       "      <td>1</td>\n",
       "      <td>PAYMENT</td>\n",
       "      <td>11668.14</td>\n",
       "      <td>C2048537720</td>\n",
       "      <td>41554.0</td>\n",
       "      <td>29885.86</td>\n",
       "      <td>M1230701703</td>\n",
       "      <td>0.0</td>\n",
       "      <td>0.0</td>\n",
       "      <td>0</td>\n",
       "      <td>0</td>\n",
       "    </tr>\n",
       "  </tbody>\n",
       "</table>\n",
       "</div>"
      ],
      "text/plain": [
       "   step      type    amount    Name_Orig  Old_Balance_Orig  New_Balance_Orig  \\\n",
       "0     1   PAYMENT   9839.64  C1231006815          170136.0         160296.36   \n",
       "1     1   PAYMENT   1864.28  C1666544295           21249.0          19384.72   \n",
       "2     1  TRANSFER    181.00  C1305486145             181.0              0.00   \n",
       "3     1  CASH_OUT    181.00   C840083671             181.0              0.00   \n",
       "4     1   PAYMENT  11668.14  C2048537720           41554.0          29885.86   \n",
       "\n",
       "     Name_Dest  Old_Balance_Dest  New_Balance_Dest  isFraud  isFlaggedFraud  \n",
       "0  M1979787155               0.0               0.0        0               0  \n",
       "1  M2044282225               0.0               0.0        0               0  \n",
       "2   C553264065               0.0               0.0        1               0  \n",
       "3    C38997010           21182.0               0.0        1               0  \n",
       "4  M1230701703               0.0               0.0        0               0  "
      ]
     },
     "execution_count": 13,
     "metadata": {},
     "output_type": "execute_result"
    }
   ],
   "source": [
    "print(df.shape)\n",
    "print(df.loc[(df.amount!=0)|(df.isFraud!=1)].shape)\n",
    "\n",
    "print(df.loc[(df.isFraud==1) & (df.amount==0)].shape)\n",
    "\n",
    "\n",
    "#删除在isFraud=1的情况下，Old_Balance_Orig<amount\n",
    "print(df.shape)\n",
    "print('isFraud=1的情况下，Old_Balance_Orig<amount',df.loc[(df.isFraud==1)& (df.Old_Balance_Orig<df.amount)].shape)\n",
    "#print(df.loc[(df.isFraud==1)& (df.Old_Balance_Orig<df.amount)].index)\n",
    "a = df.drop(df.loc[(df.isFraud==1)& (df.Old_Balance_Orig<df.amount)].index)\n",
    "print(df.shape,a.shape,df.shape[0]-a.shape[0] )\n",
    "\n",
    "df.head()"
   ]
  },
  {
   "cell_type": "code",
   "execution_count": 51,
   "metadata": {},
   "outputs": [
    {
     "name": "stdout",
     "output_type": "stream",
     "text": [
      "size of X_train, X_test, y_train, y_test\n",
      "(426327, 6) (106582, 6) (426327,) (106582,)\n",
      "accuracy of decision tree result 0.9998029686063312\n"
     ]
    }
   ],
   "source": [
    "print('size of X_train, X_test, y_train, y_test')\n",
    "print(X_train.shape, X_test.shape, y_train.shape, y_test.shape)\n",
    "\n",
    "acc = accuracy_score(y_test, y_pred)\n",
    "print('accuracy of decision tree result',acc)"
   ]
  },
  {
   "cell_type": "code",
   "execution_count": 52,
   "metadata": {},
   "outputs": [
    {
     "name": "stdout",
     "output_type": "stream",
     "text": [
      "F1 macro score\n",
      "0.9935751309133148\n",
      "F1 micro score\n",
      "0.9998029686063312\n"
     ]
    }
   ],
   "source": [
    "from sklearn.metrics import f1_score\n",
    "\n",
    "print('F1 macro score')\n",
    "print(f1_score(y_test, y_pred, average='macro')  )\n",
    "print('F1 micro score')\n",
    "print(f1_score(y_test, y_pred, average='micro')  )"
   ]
  },
  {
   "cell_type": "code",
   "execution_count": 53,
   "metadata": {},
   "outputs": [
    {
     "name": "stdout",
     "output_type": "stream",
     "text": [
      "confusion matrix of decision tree with .2 random test data:\n",
      "[[105748      7]\n",
      " [    14    813]]\n"
     ]
    }
   ],
   "source": [
    "#confusion matrix of decision tree result with .2 random test dataset\n",
    "from sklearn.metrics import confusion_matrix\n",
    "print('confusion matrix of decision tree with .2 random test data:')\n",
    "print(confusion_matrix(y_test, y_pred))\n"
   ]
  },
  {
   "cell_type": "code",
   "execution_count": null,
   "metadata": {
    "collapsed": true
   },
   "outputs": [],
   "source": []
  },
  {
   "cell_type": "markdown",
   "metadata": {},
   "source": [
    "# Cross validation accuracy score wiht cv = 5"
   ]
  },
  {
   "cell_type": "code",
   "execution_count": 27,
   "metadata": {},
   "outputs": [
    {
     "name": "stdout",
     "output_type": "stream",
     "text": [
      "Cross validation confisuion matrix wiht cv = 5\n",
      "[0.9998006239298196, 0.9997771679215631, 0.9997654399174348, 0.9996364276080455, 0.9997888909739163]\n"
     ]
    }
   ],
   "source": [
    "#Cross validation accuracy score wiht cv = 5\n",
    "from sklearn.model_selection import cross_val_score\n",
    "clf = DecisionTreeClassifier(max_depth=2, random_state=1)\n",
    "scores = cross_val_score(clf, X_train, y_train, cv=5)\n",
    "print('Cross validation confisuion matrix wiht cv = 5')\n",
    "print([s for s in scores])"
   ]
  },
  {
   "cell_type": "markdown",
   "metadata": {},
   "source": [
    "#  Cross validation confisuion matrix wiht cv = 5\n"
   ]
  },
  {
   "cell_type": "code",
   "execution_count": 43,
   "metadata": {},
   "outputs": [
    {
     "name": "stdout",
     "output_type": "stream",
     "text": [
      "Cross validation confisuion matrix wiht cv = 5\n",
      "[[422976     26]\n",
      " [    88   3237]]\n"
     ]
    }
   ],
   "source": [
    "#Cross validation confisuion matrix wiht cv = 5\n",
    "from sklearn.model_selection import cross_val_predict\n",
    "y_pred = cross_val_predict(clf, X_train, y_train,cv=5)\n",
    "conf_mat = confusion_matrix(y_pred,y_train)\n",
    "print('Cross validation confisuion matrix wiht cv = 5')\n",
    "print(conf_mat)\n",
    "print(y_pred)"
   ]
  },
  {
   "cell_type": "markdown",
   "metadata": {},
   "source": [
    "# Adaboost decision tree depth = 5"
   ]
  },
  {
   "cell_type": "code",
   "execution_count": 54,
   "metadata": {},
   "outputs": [
    {
     "name": "stdout",
     "output_type": "stream",
     "text": [
      "Cross validation confisuion matrix wiht cv = 5\n",
      "[0.9998475359463327, 0.9999296319752304, 0.9998827185832405, 0.9999179030082683, 0.9999648155749722]\n"
     ]
    }
   ],
   "source": [
    "from sklearn.ensemble import AdaBoostClassifier\n",
    "from sklearn.tree import DecisionTreeClassifier\n",
    "bdt = AdaBoostClassifier(DecisionTreeClassifier(max_depth=5),\n",
    "                         algorithm=\"SAMME\",\n",
    "                         n_estimators=20)\n",
    "\n",
    "bdt.fit(X, y)\n",
    "\n",
    "scores = cross_val_score(bdt, X_train, y_train, cv=5)\n",
    "print('Cross validation confisuion matrix wiht cv = 5')\n",
    "print([s for s in scores])"
   ]
  },
  {
   "cell_type": "code",
   "execution_count": 59,
   "metadata": {},
   "outputs": [
    {
     "name": "stdout",
     "output_type": "stream",
     "text": [
      "Cross validation confisuion matrix wiht cv = 5\n",
      "[[423044     13]\n",
      " [    26   3244]]\n",
      "tims cost 140.29813432693481\n"
     ]
    }
   ],
   "source": [
    "from sklearn.model_selection import cross_val_predict\n",
    "b = time()\n",
    "y_pred = cross_val_predict(bdt, X_train, y_train,cv=5)\n",
    "conf_mat = confusion_matrix(y_train,y_pred)\n",
    "print('Cross validation confisuion matrix wiht cv = 5')\n",
    "print(conf_mat)\n",
    "print('tims cost', time()- b)"
   ]
  },
  {
   "cell_type": "markdown",
   "metadata": {},
   "source": [
    "# logistic regression"
   ]
  },
  {
   "cell_type": "code",
   "execution_count": 65,
   "metadata": {},
   "outputs": [
    {
     "name": "stdout",
     "output_type": "stream",
     "text": [
      "train time cost 2.43247389793396\n",
      "accuracy of decision tree result 0.9994745829502167\n",
      "predict time cost 0.010970354080200195\n",
      "confusion matrix of logistic regression with .2 random test data:\n",
      "[[105708     47]\n",
      " [     9    818]]\n",
      "tims cost 0.08178234100341797\n"
     ]
    }
   ],
   "source": [
    "from sklearn import linear_model\n",
    "from time import time\n",
    "clf = linear_model.LogisticRegression()\n",
    "\n",
    "b = time()\n",
    "clf.fit(X_train,y_train)\n",
    "print('train time cost', time()- b)\n",
    "\n",
    "b = time()\n",
    "y_pred = clf.predict(X_test)\n",
    "acc = accuracy_score(y_test, y_pred)\n",
    "print('accuracy of decision tree result',acc)\n",
    "print('predict time cost', time()- b)\n",
    "\n",
    "a = time()\n",
    "print('confusion matrix of logistic regression with .2 random test data:')\n",
    "print(confusion_matrix(y_test, y_pred))\n",
    "print('tims cost', time()- a)"
   ]
  },
  {
   "cell_type": "markdown",
   "metadata": {},
   "source": [
    "# L1 logistic regression"
   ]
  },
  {
   "cell_type": "code",
   "execution_count": 63,
   "metadata": {},
   "outputs": [
    {
     "name": "stdout",
     "output_type": "stream",
     "text": [
      "train time cost 19.88284468650818\n",
      "accuracy of decision tree result 0.9986207802443189\n",
      "predict time cost 0.0139617919921875\n",
      "confusion matrix of L1 logistic regression with .2 random test data:\n",
      "[[105739     16]\n",
      " [   131    696]]\n",
      "tims cost 0.08377599716186523\n"
     ]
    }
   ],
   "source": [
    "from sklearn import linear_model\n",
    "from time import time\n",
    "clf = linear_model.LogisticRegression(C=1.0, penalty='l1', tol=1e-6)\n",
    "\n",
    "b = time()\n",
    "clf.fit(X_train,y_train)\n",
    "print('train time cost', time()- b)\n",
    "\n",
    "b = time()\n",
    "y_pred = clf.predict(X_test)\n",
    "acc = accuracy_score(y_test, y_pred)\n",
    "print('accuracy of decision tree result',acc)\n",
    "print('predict time cost', time()- b)\n",
    "\n",
    "a = time()\n",
    "print('confusion matrix of L1 logistic regression with .2 random test data:')\n",
    "print(confusion_matrix(y_test, y_pred))\n",
    "print('tims cost', time()- a)\n"
   ]
  },
  {
   "cell_type": "markdown",
   "metadata": {},
   "source": [
    "# L1 logistic regression CV5"
   ]
  },
  {
   "cell_type": "code",
   "execution_count": 55,
   "metadata": {},
   "outputs": [
    {
     "name": "stdout",
     "output_type": "stream",
     "text": [
      "Cross validation confisuion matrix wiht cv = 5\n",
      "[0.9987920155747895, 0.9986630075293786, 0.9987099044156453, 0.9988271858324048, 0.9984167008737466]\n"
     ]
    }
   ],
   "source": [
    "from sklearn import linear_model\n",
    "from time import time\n",
    "clf = linear_model.LogisticRegression(C=1.0, penalty='l1', tol=1e-6)\n",
    "a = time()\n",
    "scores = cross_val_score(clf, X_train, y_train, cv=5)\n",
    "print('tims cost', time()- a)\n",
    "print('Cross validation confisuion matrix wiht cv = 5')\n",
    "print([s for s in scores])\n",
    "\n",
    "\n"
   ]
  },
  {
   "cell_type": "code",
   "execution_count": null,
   "metadata": {
    "collapsed": true
   },
   "outputs": [],
   "source": []
  }
 ],
 "metadata": {
  "kernelspec": {
   "display_name": "Python [default]",
   "language": "python",
   "name": "python3"
  },
  "language_info": {
   "codemirror_mode": {
    "name": "ipython",
    "version": 3
   },
   "file_extension": ".py",
   "mimetype": "text/x-python",
   "name": "python",
   "nbconvert_exporter": "python",
   "pygments_lexer": "ipython3",
   "version": "3.5.3"
  }
 },
 "nbformat": 4,
 "nbformat_minor": 2
}
